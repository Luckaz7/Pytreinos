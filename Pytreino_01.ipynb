{
  "nbformat": 4,
  "nbformat_minor": 0,
  "metadata": {
    "colab": {
      "provenance": [],
      "authorship_tag": "ABX9TyPenqF746SZs8f2106bALIf",
      "include_colab_link": true
    },
    "kernelspec": {
      "name": "python3",
      "display_name": "Python 3"
    },
    "language_info": {
      "name": "python"
    }
  },
  "cells": [
    {
      "cell_type": "markdown",
      "metadata": {
        "id": "view-in-github",
        "colab_type": "text"
      },
      "source": [
        "<a href=\"https://colab.research.google.com/github/Luckaz7/Pytreinos/blob/main/Pytreino_01.ipynb\" target=\"_parent\"><img src=\"https://colab.research.google.com/assets/colab-badge.svg\" alt=\"Open In Colab\"/></a>"
      ]
    },
    {
      "cell_type": "markdown",
      "source": [
        "# ***Área de teste de programação em Python***"
      ],
      "metadata": {
        "id": "_XbfYvglP1gL"
      }
    },
    {
      "cell_type": "markdown",
      "source": [
        "*Teste 01 - Modelo de sistema de replica de um caixa eletrônico(guardar, mostrar saldo atualizado e sacar dinheiro)*"
      ],
      "metadata": {
        "id": "mRS0h0kRCAOO"
      }
    },
    {
      "cell_type": "code",
      "source": [
        "# Criando a função de depósito e atualização da carteira!\n",
        "\n",
        "deposito = input('Deseja realizar algum depósito?(sim/não): ')\n",
        "\n",
        "if deposito == 'sim':\n",
        "    valor_deposito = float(input('Informe o valor do seu depósito (ou digite 0 para encerrar): '))\n",
        "\n",
        "    def guardar_dinheiro(carteira):\n",
        "        while True: # Inicia um loop infinito para solicitar a confirmação do depósito!\n",
        "            confirmacao = input(f'Você confirma que o valor a ser guardado é {valor_deposito:.2f} reais?(sim/não): ')\n",
        "\n",
        "            if confirmacao == 'sim': # Verifica se o usuário confirmou o depósito!\n",
        "                tentativas = 3 # Define o limite de tentativas!\n",
        "\n",
        "                while tentativas > 0:\n",
        "                    senha = input('Digite sua senha para validar a ação: ')\n",
        "\n",
        "                    if senha == 'luc2589':\n",
        "                        print('Dinheiro guardado com sucesso!')\n",
        "                        print(f'Saldo atual: R${carteira:.2f}') # Exibe o saldo atual da carteira!\n",
        "\n",
        "                        return carteira # Retorna o valor atualizado da carteira se o depósito for confirmado!\n",
        "\n",
        "                    else:\n",
        "                        tentativas -= 1\n",
        "                        print(f'Senha incorreta! Você tem mais {tentativas} tentativas. Tente novamente.')\n",
        "\n",
        "                print('Limite de tentativas excedido. Depósito cancelado! Encerrando o programa!')\n",
        "                exit() # Encerra o programa se o limite de tentativas for excedido!\n",
        "\n",
        "            else:\n",
        "                print('Ok, depósito cancelado! Vamos voltar ao início.')\n",
        "                carteira -= valor_deposito # Subtrai o valor informado do saldo!\n",
        "                print(f'Saldo atual: R${carteira:.2f}') # Exibe o saldo atual da carteira!\n",
        "                break # Sai do loop se o usuário optar por não fazer mais depósitos!\n",
        "\n",
        "        return carteira # Retorna o valor atual da carteira se o depósito for cancelado!\n",
        "\n",
        "    carteira = 0 # Inicializa o saldo da carteira como zero!\n",
        "\n",
        "    carteira += valor_deposito # Adiciona o valor do depósito ao saldo da carteira!\n",
        "    carteira = guardar_dinheiro(carteira) # Chama a função para confirmar o depósito e atualizar o saldo da carteira!\n",
        "\n",
        "elif deposito == 'não':\n",
        "    saque = input('Deseja realizar algum saque?(sim/não): ')\n",
        "\n",
        "    if saque == 'sim':\n",
        "        valor_saque = float(input('Informe o valor a ser sacado (ou digite 0 encerrar): '))\n",
        "\n",
        "        def sacar_dinheiro(carteira):\n",
        "            while True: # Inicia um novo loop infinito para solicitar a confirmação do saque!\n",
        "                confirmacao_saque = input(f'Você confirma que o valor a ser sacado é {valor_saque:.2f} reais?(sim/não): ')\n",
        "\n",
        "                if confirmacao_saque == 'sim': # Verifica se o usuário confirmou o saque!\n",
        "                    tentativas_saque = 3 # Define o limite de tentativas!\n",
        "\n",
        "                    while tentativas_saque > 0:\n",
        "                        senha_saque = input('Digite sua senha para validar a ação: ')\n",
        "\n",
        "                        if senha_saque == 'luc2589':\n",
        "                            print('Dinheiro sacado com sucesso!')\n",
        "                            print(f'Saldo atual: R${carteira:.2f}') # Exibe o saldo atual da carteira!\n",
        "\n",
        "                            return carteira # Retorna o valor atualizado da carteira se o saque for confirmado!\n",
        "\n",
        "                        else:\n",
        "                            tentativas_saque -= 1\n",
        "                            print(f'Senha incorreta! Você tem mais {tentativas_saque} tentativas. Tente novamente.')\n",
        "\n",
        "                    print('Limite de tentativas excedido. Saque cancelado!')\n",
        "                    exit() # Encerra o programa se o limite de tentativas for excedido!\n",
        "\n",
        "                else:\n",
        "                    print('Ok, saque cancelado! Vamos voltar ao início.')\n",
        "                    carteira += valor_saque # Devolve o valor informado ao saldo!\n",
        "                    print(f'Saldo atual: R${carteira:.2f}') # Exibe o saldo atual da carteira!\n",
        "                    break # Sai do loop se o usuário optar por não fazer mais saques!\n",
        "\n",
        "            return carteira # Retorna o valor atual da carteira se o saque for cancelado!\n",
        "\n",
        "        carteira -= valor_saque # Subtrai o valor do saque do saldo da carteira!\n",
        "        carteira = sacar_dinheiro(carteira) # Chama a função para confirmar o saque e atualizar o saldo da carteira!\n",
        "\n",
        "    else:\n",
        "        print('Ok, operação de saque cancelada!')\n",
        "\n",
        "else:\n",
        "    print('Operação invalida! Encerrando sistema...')\n",
        "\n",
        "# criando função para novo depósito!\n",
        "\n",
        "novo_deposito = input('Deseja realizar novo depósito?(sim/não): ')\n",
        "novo_deposito = guardar_dinheiro(carteira)\n"
      ],
      "metadata": {
        "id": "XwAFqrgfFRXo"
      },
      "execution_count": null,
      "outputs": []
    },
    {
      "cell_type": "markdown",
      "source": [],
      "metadata": {
        "id": "uNRaTnwZFxBn"
      }
    },
    {
      "cell_type": "code",
      "source": [
        "# Crie um programa que leia as notas de um aluno em 4 provas e calcule a média. Em seguida, o programa deve atribuir uma nota final com base na média, utilizando a seguinte escala:\n",
        "\n",
        "# de 0 a 5.9 = Reprovado\n",
        "# média final 6.0 = Aprovado na média\n",
        "# de 7.0 a 9.9 = Aprovado acíma da média\n",
        "# média final 10.0 = Aprovado com excelência\n",
        "\n",
        "nome_aluno = input('Informe o nome do aluno: ')\n",
        "nota1 = float(input('Informe a nota da primira prova: '))\n",
        "nota2 = float(input('Informe a nota da segunda prova: '))\n",
        "nota3 = float(input('Informe a nota da terceira prova: '))\n",
        "nota4 = float(input('Informe a nota da quarta prova: '))\n",
        "\n",
        "calculo = (nota1 + nota2 + nota3 + nota4) / 4\n",
        "\n",
        "if calculo >= 6.0 and calculo < 7.0:\n",
        "  print(f'O aluno {nome_aluno} esta com média final de {calculo:.1f}, portanto está aprovado na média!')\n",
        "\n",
        "elif calculo > 7.0 and calculo < 9.9:\n",
        "  print(f'O aluno {nome_aluno} esta com média final de {calculo:.1f}, portanto está aprovado acíma da média!')\n",
        "\n",
        "elif calculo == 10.0:\n",
        "  print(f'O aluno {nome_aluno} esta com média final de {calculo:.1f}, portanto está aprovado com excelência!')\n",
        "\n",
        "else:\n",
        "  print(f'O aluno {nome_aluno} esta com média final de {calculo:.1f}, portanto está reprovado!')\n",
        "\n"
      ],
      "metadata": {
        "colab": {
          "base_uri": "https://localhost:8080/"
        },
        "id": "PznRSk-y4pIE",
        "outputId": "a0b2054a-4774-46bb-a2c1-b9897943283c"
      },
      "execution_count": null,
      "outputs": [
        {
          "output_type": "stream",
          "name": "stdout",
          "text": [
            "Informe o nome do aluno: Lucas\n",
            "Informe a nota da primira prova: 10\n",
            "Informe a nota da segunda prova: 10\n",
            "Informe a nota da terceira prova: 10\n",
            "Informe a nota da quarta prova: 10\n",
            "O aluno Lucas esta com média final de 10.00, portanto está aprovado com excelência!\n"
          ]
        }
      ]
    },
    {
      "cell_type": "code",
      "source": [
        "#Importando a biblioteca time:\n",
        "import time\n",
        "\n",
        "# declarando variáveis principais para login e senha:\n",
        "usuario = 'lucas'\n",
        "senha = 'luc2589'\n",
        "\n",
        "# iniciando o loop principal externo para permitir o reinício automático após ultrapassado o tempo de bloqueio:\n",
        "while True:\n",
        "  tentativas = 0 # Contador de tentativas!\n",
        "\n",
        "# Loop para login do usuário:\n",
        "  while tentativas < 3:\n",
        "    login = input('informe o nome para login: ')\n",
        "    senha_login = input('informe a senha para login: ')\n",
        "\n",
        "# Verificando se o nome do usuário e senha conferem:\n",
        "    if login == usuario and senha_login == senha:\n",
        "      print('Acesso concedido!')\n",
        "      break\n",
        "\n",
        "    else:\n",
        "      print('Acesso negado!')\n",
        "      tentativas += 1\n",
        "\n",
        "# Verificando se o usuário foi bloqueado:\n",
        "    if tentativas == 3:\n",
        "      print('Número maximo de tentativas excedido. Aguarde 1 minuto para tentar novamente!')\n",
        "      time.sleep(60) # Tempo de espera após o bloqueio!\n",
        "\n",
        "      tentativas = 0 # Reinicia o contador de tentativas após o bloqueio!\n",
        "\n",
        "# Se o login foi bem-sucedido, sair do loop principal externo:\n",
        "  if login == usuario and senha_login == senha:\n",
        "    break"
      ],
      "metadata": {
        "id": "Ij_hPaPwF4R-"
      },
      "execution_count": null,
      "outputs": []
    },
    {
      "cell_type": "code",
      "source": [
        "import random, time\n",
        "\n",
        "numero_secreto = random.randint(0, 1000)\n",
        "\n",
        "while True:\n",
        "  tentativas = 0\n",
        "\n",
        "  while tentativas < 10:\n",
        "    palpite = int(input('Digite um número entre 0 e 1000: '))\n",
        "\n",
        "    if palpite == numero_secreto:\n",
        "      print(f'Parabens, você acertou! O número secreto é {numero_secreto}')\n",
        "      break\n",
        "\n",
        "    elif palpite > numero_secreto:\n",
        "      print('Você errou! o numero secreto é menor!')\n",
        "      tentativas += 1\n",
        "      print(f'Você já gastou {tentativas} das suas 10 tentativas')\n",
        "\n",
        "    else:\n",
        "      print('Você errou! o numero secreto é maior!')\n",
        "      tentativas += 1\n",
        "      print(f'Você já gastou {tentativas} das suas 10 tentativas')\n",
        "\n",
        "    if tentativas == 10:\n",
        "      print(f'Suas tentativas acabaram, o número secreto era {numero_secreto}. Espere 1 minuto para jogar novamente!')\n",
        "      time.sleep(60)\n",
        "\n",
        "      tentativas = 0\n",
        "\n",
        "  if palpite == numero_secreto:\n",
        "    break"
      ],
      "metadata": {
        "id": "04SocW3Lckxg"
      },
      "execution_count": null,
      "outputs": []
    },
    {
      "cell_type": "code",
      "source": [
        "nome = input('Informe o nome do paciente: ')\n",
        "peso = float(input('Informe o peso do paciente: '))\n",
        "altura = float(input('Informe a altura do paciente: '))\n",
        "\n",
        "imc = peso / (altura ** 2)\n",
        "\n",
        "if imc < 18.5:\n",
        "  print(f'O com base nos dados informados, o paciente {nome} tem imc de {imc:.2f}, portanto esta abaixo do peso ideal.')\n",
        "\n",
        "elif imc >= 18.5 and imc < 24.9:\n",
        "  print(f'O com base nos dados informados, o paciente {nome} tem imc de {imc:.2f}, portanto esta no seu peso ideal.')\n",
        "\n",
        "elif imc > 24.9 and imc < 29.9:\n",
        "  print(f'O com base nos dados informados, o paciente {nome} tem imc de {imc:.2f}, portanto esta com sobrepeso.')\n",
        "\n",
        "else:\n",
        "  print(f'O com base nos dados informados, o paciente {nome} tem imc de {imc:.2f}, portanto esta obeso.')\n"
      ],
      "metadata": {
        "colab": {
          "base_uri": "https://localhost:8080/"
        },
        "id": "0bI_hxUWBy47",
        "outputId": "9b06eae4-b548-41c8-c3c1-16fef61a80ac"
      },
      "execution_count": null,
      "outputs": [
        {
          "output_type": "stream",
          "name": "stdout",
          "text": [
            "Informe o nome do paciente: lucas\n",
            "Informe o peso do paciente: 85\n",
            "Informe a altura do paciente: 1.68\n",
            "O com base nos dados informados, o paciente lucas tem imc de 30.12, portanto esta obeso.\n"
          ]
        }
      ]
    },
    {
      "cell_type": "code",
      "source": [
        "# Crie um programa no qual um usuário informe o código do cargo de um funcionário e o seu salário. Para encerrar a leitura dos dados, defina uma condição de parada.\n",
        "\n",
        "# Ao final, o porgrama deve informar a média salarial dos medicos!\n",
        "\n",
        "# Código - Cargo\n",
        "# 1 - Enfermeiro\n",
        "# 2 - Nutricionista\n",
        "# 3 - Médico\n",
        "\n",
        "enfermeiros = []\n",
        "nutricionistas = []\n",
        "medicos = []\n",
        "\n",
        "while True:\n",
        "  codigo = int(input('Digite o código do cargo: '))\n",
        "\n",
        "  if codigo == 1:\n",
        "    salario = float(input('Informe o salario do enfermeiro: '))\n",
        "    enfermeiros.append(salario)\n",
        "\n",
        "  elif codigo == 2:\n",
        "    salario = float(input('Informe o salario do nutricionista: '))\n",
        "    nutricionistas.append(salario)\n",
        "\n",
        "  elif codigo == 3:\n",
        "    salario = float(input('Informe o salario do medico: '))\n",
        "    medicos.append(salario)\n",
        "\n",
        "  else:\n",
        "    print('Código invalido!')\n",
        "    break\n",
        "\n",
        "if medicos:\n",
        "  media_salarial = sum(medicos) / len(medicos)\n",
        "  print(f'A média salarial dentre todos os médicos é de R${media_salarial:.2f}')\n",
        "\n"
      ],
      "metadata": {
        "colab": {
          "base_uri": "https://localhost:8080/"
        },
        "id": "PZ56UsKbnxIc",
        "outputId": "ef549ccd-ae49-4eb1-b82a-a6ed70333c6c"
      },
      "execution_count": null,
      "outputs": [
        {
          "output_type": "stream",
          "name": "stdout",
          "text": [
            "Digite o código do cargo: 3\n",
            "Informe o salario do medico: 5220\n",
            "Digite o código do cargo: 3\n",
            "Informe o salario do medico: 10500\n",
            "Digite o código do cargo: 11200\n",
            "Código invalido!\n",
            "A média salarial dentre todos os médicos é de R$7860.0\n"
          ]
        }
      ]
    },
    {
      "cell_type": "code",
      "source": [
        "# Uma turma da disciplina de banco de dados possui 5 alunos. Construa um programa que leia duas notas e calcule a média aritmética de cada aluno.\n",
        "\n",
        "# Ao fim, de acordo com tabela abaixo, indique o percentual de alunos em prova final!\n",
        "\n",
        "# Faixa - Resultado\n",
        "# média <= 2 - Reprovado\n",
        "# média >= 2 ou < 6 - Prova final\n",
        "# média >= 6 - Aprovado\n",
        "\n",
        "nomes = []\n",
        "notas = []\n",
        "prova_final = 0\n",
        "\n",
        "for i in range(3):\n",
        "  nome = input('Informe o nome do aluno: ')\n",
        "  nota = float(input(f'Informe a primeira nota do aluno {nome}: '))\n",
        "  nota2 = float(input(f'Informe a segunda nota do aluno {nome}: '))\n",
        "  nomes.append(nome)\n",
        "  notas.append(nota)\n",
        "  notas.append(nota2)\n",
        "\n",
        "  media_aritmetica = sum(notas) / len(notas)\n",
        "  print(media_aritmetica)\n",
        "\n",
        "  if media_aritmetica >= 2 and media_aritmetica < 6:\n",
        "    prova_final += 1\n",
        "\n",
        "print(f'A quantidade de alunos, que terão que fazer prova final, dentre todos os alunos informados, com base na média final das notas informadas, é de: {prova_final} alunos no total')\n"
      ],
      "metadata": {
        "colab": {
          "base_uri": "https://localhost:8080/"
        },
        "id": "ry_SGJbAnxmb",
        "outputId": "adca4269-bd52-44c8-ceb4-5052aad9fa88"
      },
      "execution_count": null,
      "outputs": [
        {
          "output_type": "stream",
          "name": "stdout",
          "text": [
            "Informe o nome do aluno: lucas\n",
            "Informe a primeira nota do aluno lucas: 6.00\n",
            "Informe a segunda nota do aluno lucas: 5.50\n",
            "5.75\n",
            "Informe o nome do aluno: mateus\n",
            "Informe a primeira nota do aluno mateus: 6.50\n",
            "Informe a segunda nota do aluno mateus: 4.00\n",
            "5.5\n",
            "Informe o nome do aluno: ana\n",
            "Informe a primeira nota do aluno ana: 7.00\n",
            "Informe a segunda nota do aluno ana: 6.50\n",
            "5.916666666666667\n",
            "A quantidade de alunos, que terão que fazer prova final, dentre os informados, com base na média final das notas, é de: 3 alunos no total\n"
          ]
        }
      ]
    }
  ]
}