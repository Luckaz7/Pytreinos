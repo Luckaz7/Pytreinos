{
  "nbformat": 4,
  "nbformat_minor": 0,
  "metadata": {
    "colab": {
      "provenance": [],
      "authorship_tag": "ABX9TyOaGANoBQJhXddff/eYeVwp",
      "include_colab_link": true
    },
    "kernelspec": {
      "name": "python3",
      "display_name": "Python 3"
    },
    "language_info": {
      "name": "python"
    }
  },
  "cells": [
    {
      "cell_type": "markdown",
      "metadata": {
        "id": "view-in-github",
        "colab_type": "text"
      },
      "source": [
        "<a href=\"https://colab.research.google.com/github/Luckaz7/Pytreinos/blob/main/Chatbot_IA.ipynb\" target=\"_parent\"><img src=\"https://colab.research.google.com/assets/colab-badge.svg\" alt=\"Open In Colab\"/></a>"
      ]
    },
    {
      "cell_type": "markdown",
      "source": [
        "# **Chatbot IA com Gemini API do Google**"
      ],
      "metadata": {
        "id": "BTgWpVRG1phl"
      }
    },
    {
      "cell_type": "markdown",
      "source": [
        "# ***Instalando o SDK do Google***"
      ],
      "metadata": {
        "id": "gqtbASZTix4h"
      }
    },
    {
      "cell_type": "code",
      "execution_count": 14,
      "metadata": {
        "id": "rC2juxX7SYHL"
      },
      "outputs": [],
      "source": [
        "!pip install -q -U google-generativeai"
      ]
    },
    {
      "cell_type": "markdown",
      "source": [
        "# ***Configurações iniciais do chatbot:***"
      ],
      "metadata": {
        "id": "YjWlRLqBi43o"
      }
    },
    {
      "cell_type": "code",
      "source": [
        "import google.generativeai as genai\n",
        "from google.colab import userdata\n",
        "\n",
        "api_key = userdata.get('SECRET_KEY')\n",
        "\n",
        "genai.configure(api_key=api_key)"
      ],
      "metadata": {
        "id": "Ab5maWk-YM2Y"
      },
      "execution_count": 26,
      "outputs": []
    },
    {
      "cell_type": "markdown",
      "source": [
        "# ***Listando os modelos disponíveis:***"
      ],
      "metadata": {
        "id": "dCAzc5A2jE2I"
      }
    },
    {
      "cell_type": "code",
      "source": [
        "for m in genai.list_models():\n",
        "  if 'generateContent' in m.supported_generation_methods:\n",
        "    print(m.name)"
      ],
      "metadata": {
        "colab": {
          "base_uri": "https://localhost:8080/",
          "height": 139
        },
        "id": "ohna3lKoYokV",
        "outputId": "cd6b5738-f395-475e-c724-48835f3fc26a"
      },
      "execution_count": 16,
      "outputs": [
        {
          "output_type": "stream",
          "name": "stdout",
          "text": [
            "models/gemini-1.0-pro\n",
            "models/gemini-1.0-pro-001\n",
            "models/gemini-1.0-pro-latest\n",
            "models/gemini-1.0-pro-vision-latest\n",
            "models/gemini-1.5-pro-latest\n",
            "models/gemini-pro\n",
            "models/gemini-pro-vision\n"
          ]
        }
      ]
    },
    {
      "cell_type": "markdown",
      "source": [
        "# ***Gerando configurações do modelo:***"
      ],
      "metadata": {
        "id": "oa9qP7YkjN36"
      }
    },
    {
      "cell_type": "code",
      "source": [
        "generation_config = {\n",
        "    'candidate_count': 1,\n",
        "    'temperature': 0.5,\n",
        "}"
      ],
      "metadata": {
        "id": "Zg5L9udQZeLY"
      },
      "execution_count": 13,
      "outputs": []
    },
    {
      "cell_type": "markdown",
      "source": [
        "# ***Gerando configurações seguras do modelo(evitando conteúdo de ódio):***"
      ],
      "metadata": {
        "id": "h5Ski5urjVMb"
      }
    },
    {
      "cell_type": "code",
      "source": [
        "safety_settings = {\n",
        "    'HARASSMENT': 'BLOCK_NONE',\n",
        "    'HATE': 'BLOCK_NONE',\n",
        "    'SEXUAL': 'BLOCK_NONE',\n",
        "    'DANGEROUS': 'BLOCK_NONE'\n",
        "}"
      ],
      "metadata": {
        "id": "4Bw-KNuxbSSX"
      },
      "execution_count": 17,
      "outputs": []
    },
    {
      "cell_type": "markdown",
      "source": [
        "# ***Escolhendo o modelo a ser usado no chatbot:***"
      ],
      "metadata": {
        "id": "gPokj6HGjtrJ"
      }
    },
    {
      "cell_type": "code",
      "source": [
        "model = genai.GenerativeModel(model_name='gemini-1.0-pro',\n",
        "                              generation_config=generation_config,\n",
        "                              safety_settings=safety_settings)"
      ],
      "metadata": {
        "id": "illBapHJb9sU"
      },
      "execution_count": 18,
      "outputs": []
    },
    {
      "cell_type": "markdown",
      "source": [
        "# ***Treinando o modelo para o chatbot:***"
      ],
      "metadata": {
        "id": "5LevFyTYj1KW"
      }
    },
    {
      "cell_type": "code",
      "source": [
        "response = model.generate_content(\"Vamos aprender sobre IA, me de sugestões!\")\n",
        "print(response.text)"
      ],
      "metadata": {
        "colab": {
          "base_uri": "https://localhost:8080/",
          "height": 659
        },
        "id": "Zt176cngeXtm",
        "outputId": "81ec7a53-952c-4864-f002-42d74df5a490"
      },
      "execution_count": 19,
      "outputs": [
        {
          "output_type": "stream",
          "name": "stdout",
          "text": [
            "**Recursos Online:**\n",
            "\n",
            "* **Coursera:** Cursos gratuitos e pagos sobre IA, aprendizado de máquina e aprendizado profundo\n",
            "* **edX:** Cursos gratuitos e pagos de universidades de renome sobre tópicos de IA\n",
            "* **Udemy:** Cursos pagos sobre IA para iniciantes e especialistas\n",
            "* **MIT OpenCourseWare:** Cursos gratuitos de IA ministrados pelo MIT\n",
            "* **Google AI:** Recursos abrangentes sobre IA, incluindo tutoriais, artigos e ferramentas\n",
            "\n",
            "**Livros:**\n",
            "\n",
            "* **Inteligência Artificial: Uma Abordagem Moderna (3ª Edição)** por Stuart Russell e Peter Norvig\n",
            "* **Aprendizado de Máquina (4ª Edição)** por Ethem Alpaydin\n",
            "* **Aprendizado Profundo** por Ian Goodfellow, Yoshua Bengio e Aaron Courville\n",
            "* **IA para Todos** por Andrew Ng e Ernest Davis\n",
            "* **Inteligência Artificial: Um Guia Prático** por Kevin Warwick\n",
            "\n",
            "**Podcasts:**\n",
            "\n",
            "* **The AI Podcast:** Entrevistas com especialistas em IA e discussões sobre os últimos avanços\n",
            "* **Machine Learning Podcast:** Tutoriais e entrevistas sobre aprendizado de máquina e IA\n",
            "* **Deep Learning Podcast:** Episódios sobre aprendizado profundo e seus aplicativos\n",
            "* **Artificial Intelligence Podcast:** Notícias e análises sobre o campo de IA\n",
            "* **AI in Practice:** Estudos de caso e exemplos do mundo real de como a IA está sendo usada\n",
            "\n",
            "**Comunidades Online:**\n",
            "\n",
            "* **Reddit r/artificialintelligence:** Fórum para discutir IA e compartilhar recursos\n",
            "* **Kaggle:** Plataforma para competições e colaborações de aprendizado de máquina\n",
            "* **Stack Overflow:** Site de perguntas e respostas com uma seção dedicada à IA\n",
            "* **GitHub:** Repositório de código aberto com projetos e recursos de IA\n",
            "* **Meetup:** Grupos locais para se conectar com outras pessoas interessadas em IA\n",
            "\n",
            "**Eventos:**\n",
            "\n",
            "* **Conferências de IA:** Eventos anuais que reúnem especialistas e pesquisadores de IA\n",
            "* **Hackathons de IA:** Competições que desafiam os participantes a desenvolver soluções de IA para problemas do mundo real\n",
            "* **Workshops de IA:** Sessões práticas para aprender e aplicar técnicas de IA\n"
          ]
        }
      ]
    },
    {
      "cell_type": "markdown",
      "source": [
        "# ***Criando um histórico de conversas do chatbot:***"
      ],
      "metadata": {
        "id": "LUvaFJcij9Vj"
      }
    },
    {
      "cell_type": "code",
      "source": [
        "chat = model.start_chat(history=[])"
      ],
      "metadata": {
        "id": "Glp0MLNLfpET"
      },
      "execution_count": 20,
      "outputs": []
    },
    {
      "cell_type": "markdown",
      "source": [
        "# ***Criando e testando o chatbot:***"
      ],
      "metadata": {
        "id": "CovDymaWkG6G"
      }
    },
    {
      "cell_type": "code",
      "source": [
        "prompt = input('Esperando prompt:' )\n",
        "\n",
        "while prompt != 'fim':\n",
        "  response = chat.send_message(prompt)\n",
        "  print('Resposta: ', response.text, '\\n')\n",
        "  prompt = input('Esperando prompt:' )"
      ],
      "metadata": {
        "colab": {
          "base_uri": "https://localhost:8080/",
          "height": 139
        },
        "id": "LghDXAwhgFXr",
        "outputId": "f2f78a9e-435e-4339-c122-49c54e5ce1e4"
      },
      "execution_count": 22,
      "outputs": [
        {
          "name": "stdout",
          "output_type": "stream",
          "text": [
            "Esperando prompt:qual a capital do brasil\n",
            "Resposta:  Brasília \n",
            "\n",
            "Esperando prompt:qual a comida tipica desse pais\n",
            "Resposta:  Feijoada \n",
            "\n",
            "Esperando prompt:fim\n"
          ]
        }
      ]
    },
    {
      "cell_type": "markdown",
      "source": [
        "# ***Consultando o historico salvo pelo chatbot:***"
      ],
      "metadata": {
        "id": "F4KDrotwkUfh"
      }
    },
    {
      "cell_type": "code",
      "source": [
        "chat.history"
      ],
      "metadata": {
        "colab": {
          "base_uri": "https://localhost:8080/"
        },
        "id": "e0aVfUePiL-0",
        "outputId": "96b1ff96-6b65-4a8c-bde4-cf96ec8631d1"
      },
      "execution_count": 24,
      "outputs": [
        {
          "output_type": "execute_result",
          "data": {
            "text/plain": [
              "[parts {\n",
              "   text: \"qual a capital do brasil\"\n",
              " }\n",
              " role: \"user\",\n",
              " parts {\n",
              "   text: \"Bras\\303\\255lia\"\n",
              " }\n",
              " role: \"model\",\n",
              " parts {\n",
              "   text: \"qual a comida tipica desse pais\"\n",
              " }\n",
              " role: \"user\",\n",
              " parts {\n",
              "   text: \"Feijoada\"\n",
              " }\n",
              " role: \"model\"]"
            ]
          },
          "metadata": {},
          "execution_count": 24
        }
      ]
    },
    {
      "cell_type": "markdown",
      "source": [
        "# ***Melhorando a visualização do chatbot:***"
      ],
      "metadata": {
        "id": "Mx01U8M0kgCM"
      }
    },
    {
      "cell_type": "code",
      "source": [
        "import textwrap\n",
        "from IPython.display import display\n",
        "from IPython.display import Markdown\n",
        "\n",
        "#Texto bonito\n",
        "def to_markdown(text):\n",
        "  text = text.replace('•', '  *')\n",
        "  return Markdown(textwrap.indent(text, '> ', predicate=lambda _: True))\n",
        "\n",
        "#Imprimindo o histórico\n",
        "for message in chat.history:\n",
        "  display(to_markdown(f'**{message.role}**: {message.parts[0].text}'))\n",
        "  print('-------------------------------------------')"
      ],
      "metadata": {
        "colab": {
          "base_uri": "https://localhost:8080/",
          "height": 268
        },
        "id": "Qlau2dHsiJKM",
        "outputId": "78165b22-a163-4013-b16c-8aa18bbb048a"
      },
      "execution_count": 25,
      "outputs": [
        {
          "output_type": "display_data",
          "data": {
            "text/plain": [
              "<IPython.core.display.Markdown object>"
            ],
            "text/markdown": "> **user**: qual a capital do brasil"
          },
          "metadata": {}
        },
        {
          "output_type": "stream",
          "name": "stdout",
          "text": [
            "-------------------------------------------\n"
          ]
        },
        {
          "output_type": "display_data",
          "data": {
            "text/plain": [
              "<IPython.core.display.Markdown object>"
            ],
            "text/markdown": "> **model**: Brasília"
          },
          "metadata": {}
        },
        {
          "output_type": "stream",
          "name": "stdout",
          "text": [
            "-------------------------------------------\n"
          ]
        },
        {
          "output_type": "display_data",
          "data": {
            "text/plain": [
              "<IPython.core.display.Markdown object>"
            ],
            "text/markdown": "> **user**: qual a comida tipica desse pais"
          },
          "metadata": {}
        },
        {
          "output_type": "stream",
          "name": "stdout",
          "text": [
            "-------------------------------------------\n"
          ]
        },
        {
          "output_type": "display_data",
          "data": {
            "text/plain": [
              "<IPython.core.display.Markdown object>"
            ],
            "text/markdown": "> **model**: Feijoada"
          },
          "metadata": {}
        },
        {
          "output_type": "stream",
          "name": "stdout",
          "text": [
            "-------------------------------------------\n"
          ]
        }
      ]
    }
  ]
}